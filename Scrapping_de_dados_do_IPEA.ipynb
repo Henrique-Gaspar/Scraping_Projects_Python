{
  "nbformat": 4,
  "nbformat_minor": 0,
  "metadata": {
    "colab": {
      "name": "Scrapping de dados do IPEA",
      "provenance": [],
      "collapsed_sections": []
    },
    "kernelspec": {
      "name": "python3",
      "display_name": "Python 3"
    }
  },
  "cells": [
    {
      "cell_type": "code",
      "metadata": {
        "id": "gRQdcvVOiMlL"
      },
      "source": [
        "import pandas as pd\n",
        "import requests\n",
        "from bs4 import BeautifulSoup"
      ],
      "execution_count": null,
      "outputs": []
    },
    {
      "cell_type": "code",
      "metadata": {
        "id": "9Bs0ofBKi_OC"
      },
      "source": [
        "def get_ipea_serie(serie_id):\n",
        "  url = 'http://ipeadata.gov.br/exibeserie.aspx?serid={}'.format(serie_id)\n",
        "  return url"
      ],
      "execution_count": 74,
      "outputs": []
    },
    {
      "cell_type": "code",
      "metadata": {
        "id": "7g2RRcOP3_Mz"
      },
      "source": [
        "url = get_ipea_serie(serie_id=1256135712)\n",
        "web = requests.get(url)\n",
        "soup = BeautifulSoup(web.text, 'html.parser')"
      ],
      "execution_count": 81,
      "outputs": []
    },
    {
      "cell_type": "code",
      "metadata": {
        "id": "iD-hI4RejCMp"
      },
      "source": [
        "exportacoes = []\n",
        "periodo = []\n",
        "\n",
        "for i in soup.find_all('td',{'align':'right'}):\n",
        "  i = i.get_text()\n",
        "  exportacoes.append(i)\n",
        "for y in soup.find_all('td', {'align':'left'}):\n",
        "  y = y.get_text()\n",
        "  periodo.append(y) "
      ],
      "execution_count": 82,
      "outputs": []
    },
    {
      "cell_type": "code",
      "metadata": {
        "id": "bqkBkJETjEQY"
      },
      "source": [
        "dados = {'data' : periodo, 'exportacoes' : exportacoes}\n",
        "dados = pd.DataFrame(data=dados)"
      ],
      "execution_count": 83,
      "outputs": []
    },
    {
      "cell_type": "code",
      "metadata": {
        "id": "yZZYGdCcjH-q"
      },
      "source": [
        "dados['data'] = pd.to_datetime(dados['data'], format='%Y-%m')\n",
        "dados['data'] = dados['data'].map(lambda x: x.strftime(\"%Y-%m\"))\n",
        "dados.set_index(dados['data'], inplace=True)"
      ],
      "execution_count": 84,
      "outputs": []
    },
    {
      "cell_type": "code",
      "metadata": {
        "id": "lIut-0GLjKUg"
      },
      "source": [
        "dados.drop('data', axis=1, inplace=True)\n",
        "dados['exportacoes'] = dados['exportacoes'].apply(lambda x: x.replace(\",\", \"\"))\n",
        "dados['exportacoes'] = dados['exportacoes'].apply(lambda x: x.replace(\".\", \"\"))"
      ],
      "execution_count": 85,
      "outputs": []
    },
    {
      "cell_type": "code",
      "metadata": {
        "id": "d7zcOv0yjmJU"
      },
      "source": [
        "dados = dados[\"2000\":]\n",
        "dados['exportacoes'] = dados['exportacoes'].astype(float)"
      ],
      "execution_count": 86,
      "outputs": []
    },
    {
      "cell_type": "code",
      "metadata": {
        "colab": {
          "base_uri": "https://localhost:8080/",
          "height": 238
        },
        "id": "p4EZp0aH20Sm",
        "outputId": "bca463cf-e5f8-448b-9695-89b754832d15"
      },
      "source": [
        "dados.head()"
      ],
      "execution_count": 87,
      "outputs": [
        {
          "output_type": "execute_result",
          "data": {
            "text/html": [
              "<div>\n",
              "<style scoped>\n",
              "    .dataframe tbody tr th:only-of-type {\n",
              "        vertical-align: middle;\n",
              "    }\n",
              "\n",
              "    .dataframe tbody tr th {\n",
              "        vertical-align: top;\n",
              "    }\n",
              "\n",
              "    .dataframe thead th {\n",
              "        text-align: right;\n",
              "    }\n",
              "</style>\n",
              "<table border=\"1\" class=\"dataframe\">\n",
              "  <thead>\n",
              "    <tr style=\"text-align: right;\">\n",
              "      <th></th>\n",
              "      <th>exportacoes</th>\n",
              "    </tr>\n",
              "    <tr>\n",
              "      <th>data</th>\n",
              "      <th></th>\n",
              "    </tr>\n",
              "  </thead>\n",
              "  <tbody>\n",
              "    <tr>\n",
              "      <th>2000-01</th>\n",
              "      <td>34876505.0</td>\n",
              "    </tr>\n",
              "    <tr>\n",
              "      <th>2000-02</th>\n",
              "      <td>41858319.0</td>\n",
              "    </tr>\n",
              "    <tr>\n",
              "      <th>2000-03</th>\n",
              "      <td>44631141.0</td>\n",
              "    </tr>\n",
              "    <tr>\n",
              "      <th>2000-04</th>\n",
              "      <td>41861452.0</td>\n",
              "    </tr>\n",
              "    <tr>\n",
              "      <th>2000-05</th>\n",
              "      <td>50893679.0</td>\n",
              "    </tr>\n",
              "  </tbody>\n",
              "</table>\n",
              "</div>"
            ],
            "text/plain": [
              "         exportacoes\n",
              "data                \n",
              "2000-01   34876505.0\n",
              "2000-02   41858319.0\n",
              "2000-03   44631141.0\n",
              "2000-04   41861452.0\n",
              "2000-05   50893679.0"
            ]
          },
          "metadata": {
            "tags": []
          },
          "execution_count": 87
        }
      ]
    },
    {
      "cell_type": "code",
      "metadata": {
        "colab": {
          "base_uri": "https://localhost:8080/",
          "height": 312
        },
        "id": "tPr96XRj6De0",
        "outputId": "75431f42-c396-49a9-ded5-02371c9e5f49"
      },
      "source": [
        "dados.plot(kind='line').set_title(\"Balanço de Pagamentos: Balança comercial - Exportações\")"
      ],
      "execution_count": 89,
      "outputs": [
        {
          "output_type": "execute_result",
          "data": {
            "text/plain": [
              "Text(0.5, 1.0, 'Balanço de Pagamentos: Balança comercial - Exportações')"
            ]
          },
          "metadata": {
            "tags": []
          },
          "execution_count": 89
        },
        {
          "output_type": "display_data",
          "data": {
            "image/png": "[encoded data removed]",
            "text/plain": [
              "<Figure size 432x288 with 1 Axes>"
            ]
          },
          "metadata": {
            "tags": [],
            "needs_background": "light"
          }
        }
      ]
    }
  ]
}