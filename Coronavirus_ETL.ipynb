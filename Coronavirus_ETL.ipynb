{
  "nbformat": 4,
  "nbformat_minor": 0,
  "metadata": {
    "colab": {
      "name": "Coronavirus ETL",
      "provenance": [],
      "collapsed_sections": []
    },
    "kernelspec": {
      "name": "python3",
      "display_name": "Python 3"
    },
    "language_info": {
      "name": "python"
    }
  },
  "cells": [
    {
      "cell_type": "markdown",
      "metadata": {
        "id": "F-x5JQyto-Lb"
      },
      "source": [
        "# ETL Project\n",
        "\n",
        "### Scraping Covid data"
      ]
    },
    {
      "cell_type": "code",
      "metadata": {
        "id": "tj_uPCeLXHNk"
      },
      "source": [
        "import pandas as pd\n",
        "import matplotlib.pyplot as plt\n",
        "import seaborn as sns\n",
        "\n",
        "import requests\n",
        "from bs4 import BeautifulSoup"
      ],
      "execution_count": 1,
      "outputs": []
    },
    {
      "cell_type": "markdown",
      "metadata": {
        "id": "Uq5tk6PwpwoW"
      },
      "source": [
        "### Worldmeters site provide daily covid cases\n",
        "\n",
        "###### https://www.worldometers.info/coronavirus/"
      ]
    },
    {
      "cell_type": "code",
      "metadata": {
        "id": "7YUD8EY3bJK6"
      },
      "source": [
        "url = requests.get('https://www.worldometers.info/coronavirus/')\n",
        "\n",
        "soup = BeautifulSoup(url.text, 'html.parser')"
      ],
      "execution_count": 2,
      "outputs": []
    },
    {
      "cell_type": "code",
      "metadata": {
        "id": "fbw4s76XfPiz"
      },
      "source": [
        "row = []\n",
        "country = []\n",
        "total_cases = []\n",
        "total_deaths = []\n",
        "total_recovered = []\n",
        "active_cases = []\n",
        "critical = []\n",
        "cases_1M_pop = [] \n",
        "deaths_1M_pop = []\n",
        "total_tests = []\n",
        "tests_1M_pop = []\n",
        "population = []\n",
        "\n",
        "for table in soup.find_all('table', attrs={'id':'main_table_countries_today'}):\n",
        "  for table_body in table.find_all('tbody'):\n",
        "    for rows in table_body.find_all('tr'):\n",
        "      row.append(rows)\n",
        "\n",
        "for t in row:\n",
        "  columns = t.find_all('td')\n",
        "  columns = [comma.text.strip() for comma in columns]\n",
        "  country.append(columns[1])\n",
        "  total_cases.append(columns[2])\n",
        "  total_deaths.append(columns[4])\n",
        "  total_recovered.append(columns[6])\n",
        "  active_cases.append(columns[7])\n",
        "  critical.append(columns[8])\n",
        "  cases_1M_pop.append(columns[9])\n",
        "  deaths_1M_pop.append(columns[10])\n",
        "  total_tests.append(columns[11])\n",
        "  tests_1M_pop.append(columns[12])\n",
        "  population.append(columns[13])"
      ],
      "execution_count": 3,
      "outputs": []
    },
    {
      "cell_type": "markdown",
      "metadata": {
        "id": "9mKa8cucqbg7"
      },
      "source": [
        "### Transforming the scraped data in a dataframe"
      ]
    },
    {
      "cell_type": "code",
      "metadata": {
        "id": "aRiYpIFmqn9E"
      },
      "source": [
        "tabela = {'Country' : country, 'Total Cases' : total_cases, 'Total Deaths' : total_deaths, 'Total Recovered' : total_recovered, 'Active Cases' : active_cases,\n",
        "          'Critical Cases' : critical, 'Cases/1M Pop' : cases_1M_pop, 'Deaths/1M Pop' : deaths_1M_pop, 'Total Tests' : total_tests, 'Tests/1M Pop' : tests_1M_pop,\n",
        "          'Population' : population}\n",
        "\n",
        "df = pd.DataFrame(tabela)"
      ],
      "execution_count": 4,
      "outputs": []
    },
    {
      "cell_type": "code",
      "metadata": {
        "colab": {
          "base_uri": "https://localhost:8080/",
          "height": 424
        },
        "id": "ctvtGclIIzeK",
        "outputId": "973dbcba-7946-4412-d28f-1ca765126220"
      },
      "source": [
        "df"
      ],
      "execution_count": 5,
      "outputs": [
        {
          "output_type": "execute_result",
          "data": {
            "text/html": [
              "<div>\n",
              "<style scoped>\n",
              "    .dataframe tbody tr th:only-of-type {\n",
              "        vertical-align: middle;\n",
              "    }\n",
              "\n",
              "    .dataframe tbody tr th {\n",
              "        vertical-align: top;\n",
              "    }\n",
              "\n",
              "    .dataframe thead th {\n",
              "        text-align: right;\n",
              "    }\n",
              "</style>\n",
              "<table border=\"1\" class=\"dataframe\">\n",
              "  <thead>\n",
              "    <tr style=\"text-align: right;\">\n",
              "      <th></th>\n",
              "      <th>Country</th>\n",
              "      <th>Total Cases</th>\n",
              "      <th>Total Deaths</th>\n",
              "      <th>Total Recovered</th>\n",
              "      <th>Active Cases</th>\n",
              "      <th>Critical Cases</th>\n",
              "      <th>Cases/1M Pop</th>\n",
              "      <th>Deaths/1M Pop</th>\n",
              "      <th>Total Tests</th>\n",
              "      <th>Tests/1M Pop</th>\n",
              "      <th>Population</th>\n",
              "    </tr>\n",
              "  </thead>\n",
              "  <tbody>\n",
              "    <tr>\n",
              "      <th>0</th>\n",
              "      <td>North America</td>\n",
              "      <td>35,627,823</td>\n",
              "      <td>815,057</td>\n",
              "      <td>27,282,612</td>\n",
              "      <td>+68,620</td>\n",
              "      <td>7,530,154</td>\n",
              "      <td>15,172</td>\n",
              "      <td></td>\n",
              "      <td></td>\n",
              "      <td></td>\n",
              "      <td></td>\n",
              "    </tr>\n",
              "    <tr>\n",
              "      <th>1</th>\n",
              "      <td>South America</td>\n",
              "      <td>20,811,792</td>\n",
              "      <td>540,550</td>\n",
              "      <td>18,521,290</td>\n",
              "      <td>+64,303</td>\n",
              "      <td>1,749,952</td>\n",
              "      <td>20,152</td>\n",
              "      <td></td>\n",
              "      <td></td>\n",
              "      <td></td>\n",
              "      <td></td>\n",
              "    </tr>\n",
              "    <tr>\n",
              "      <th>2</th>\n",
              "      <td>Asia</td>\n",
              "      <td>27,994,962</td>\n",
              "      <td>424,216</td>\n",
              "      <td>25,764,679</td>\n",
              "      <td>+118,596</td>\n",
              "      <td>1,806,067</td>\n",
              "      <td>25,091</td>\n",
              "      <td></td>\n",
              "      <td></td>\n",
              "      <td></td>\n",
              "      <td></td>\n",
              "    </tr>\n",
              "    <tr>\n",
              "      <th>3</th>\n",
              "      <td>Europe</td>\n",
              "      <td>39,032,598</td>\n",
              "      <td>902,345</td>\n",
              "      <td>27,541,194</td>\n",
              "      <td>+96,773</td>\n",
              "      <td>10,589,059</td>\n",
              "      <td>30,523</td>\n",
              "      <td></td>\n",
              "      <td></td>\n",
              "      <td></td>\n",
              "      <td></td>\n",
              "    </tr>\n",
              "    <tr>\n",
              "      <th>4</th>\n",
              "      <td>Africa</td>\n",
              "      <td>4,217,257</td>\n",
              "      <td>112,125</td>\n",
              "      <td>3,785,290</td>\n",
              "      <td>+5,510</td>\n",
              "      <td>319,842</td>\n",
              "      <td>2,726</td>\n",
              "      <td></td>\n",
              "      <td></td>\n",
              "      <td></td>\n",
              "      <td></td>\n",
              "    </tr>\n",
              "    <tr>\n",
              "      <th>...</th>\n",
              "      <td>...</td>\n",
              "      <td>...</td>\n",
              "      <td>...</td>\n",
              "      <td>...</td>\n",
              "      <td>...</td>\n",
              "      <td>...</td>\n",
              "      <td>...</td>\n",
              "      <td>...</td>\n",
              "      <td>...</td>\n",
              "      <td>...</td>\n",
              "      <td>...</td>\n",
              "    </tr>\n",
              "    <tr>\n",
              "      <th>232</th>\n",
              "      <td>Total:</td>\n",
              "      <td>39,032,598</td>\n",
              "      <td>902,345</td>\n",
              "      <td>27,541,194</td>\n",
              "      <td>+96,773</td>\n",
              "      <td>10,589,059</td>\n",
              "      <td>30,523</td>\n",
              "      <td></td>\n",
              "      <td></td>\n",
              "      <td></td>\n",
              "      <td></td>\n",
              "    </tr>\n",
              "    <tr>\n",
              "      <th>233</th>\n",
              "      <td>Total:</td>\n",
              "      <td>4,217,257</td>\n",
              "      <td>112,125</td>\n",
              "      <td>3,785,290</td>\n",
              "      <td>+5,510</td>\n",
              "      <td>319,842</td>\n",
              "      <td>2,726</td>\n",
              "      <td></td>\n",
              "      <td></td>\n",
              "      <td></td>\n",
              "      <td></td>\n",
              "    </tr>\n",
              "    <tr>\n",
              "      <th>234</th>\n",
              "      <td>Total:</td>\n",
              "      <td>56,119</td>\n",
              "      <td>1,127</td>\n",
              "      <td>34,528</td>\n",
              "      <td>+1</td>\n",
              "      <td>20,464</td>\n",
              "      <td>6</td>\n",
              "      <td></td>\n",
              "      <td></td>\n",
              "      <td></td>\n",
              "      <td></td>\n",
              "    </tr>\n",
              "    <tr>\n",
              "      <th>235</th>\n",
              "      <td>Total:</td>\n",
              "      <td>721</td>\n",
              "      <td>15</td>\n",
              "      <td>706</td>\n",
              "      <td></td>\n",
              "      <td>0</td>\n",
              "      <td>0</td>\n",
              "      <td></td>\n",
              "      <td></td>\n",
              "      <td></td>\n",
              "      <td></td>\n",
              "    </tr>\n",
              "    <tr>\n",
              "      <th>236</th>\n",
              "      <td>Total:</td>\n",
              "      <td>127,741,272</td>\n",
              "      <td>2,795,435</td>\n",
              "      <td>102,930,299</td>\n",
              "      <td>+353,803</td>\n",
              "      <td>22,015,538</td>\n",
              "      <td>93,670</td>\n",
              "      <td>16,388.0</td>\n",
              "      <td>358.6</td>\n",
              "      <td></td>\n",
              "      <td></td>\n",
              "    </tr>\n",
              "  </tbody>\n",
              "</table>\n",
              "<p>237 rows × 11 columns</p>\n",
              "</div>"
            ],
            "text/plain": [
              "           Country  Total Cases  ... Tests/1M Pop Population\n",
              "0    North America   35,627,823  ...                        \n",
              "1    South America   20,811,792  ...                        \n",
              "2             Asia   27,994,962  ...                        \n",
              "3           Europe   39,032,598  ...                        \n",
              "4           Africa    4,217,257  ...                        \n",
              "..             ...          ...  ...          ...        ...\n",
              "232         Total:   39,032,598  ...                        \n",
              "233         Total:    4,217,257  ...                        \n",
              "234         Total:       56,119  ...                        \n",
              "235         Total:          721  ...                        \n",
              "236         Total:  127,741,272  ...                        \n",
              "\n",
              "[237 rows x 11 columns]"
            ]
          },
          "metadata": {
            "tags": []
          },
          "execution_count": 5
        }
      ]
    },
    {
      "cell_type": "markdown",
      "metadata": {
        "id": "mhEhZVqUqkKj"
      },
      "source": [
        "### Data cleaning and transformation"
      ]
    },
    {
      "cell_type": "code",
      "metadata": {
        "id": "v6uG4gySI14M"
      },
      "source": [
        "df = df.apply(lambda x: x.replace('', '0'))"
      ],
      "execution_count": 6,
      "outputs": []
    },
    {
      "cell_type": "code",
      "metadata": {
        "id": "8Ube0l_NeBeo"
      },
      "source": [
        "for i in df.columns:\n",
        "  df[i] = df[i].apply(lambda x: x.replace(',', ''))\n",
        "  df[i] = df[i].apply(lambda x: x.replace('+', ''))\n",
        "  df[i] = df[i].apply(lambda x: x.replace('N/A', '0'))"
      ],
      "execution_count": 7,
      "outputs": []
    },
    {
      "cell_type": "code",
      "metadata": {
        "colab": {
          "base_uri": "https://localhost:8080/"
        },
        "id": "pZ3QrCAQuKQT",
        "outputId": "381c5ad6-e050-4a98-87fc-19bac01341c5"
      },
      "source": [
        "df['Country'].values"
      ],
      "execution_count": 8,
      "outputs": [
        {
          "output_type": "execute_result",
          "data": {
            "text/plain": [
              "array(['North America', 'South America', 'Asia', 'Europe', 'Africa',\n",
              "       'Oceania', '0', 'World', 'USA', 'Brazil', 'India', 'France',\n",
              "       'Russia', 'UK', 'Italy', 'Spain', 'Turkey', 'Germany', 'Colombia',\n",
              "       'Argentina', 'Poland', 'Mexico', 'Iran', 'Ukraine', 'South Africa',\n",
              "       'Peru', 'Czechia', 'Indonesia', 'Netherlands', 'Chile', 'Canada',\n",
              "       'Romania', 'Belgium', 'Iraq', 'Israel', 'Portugal', 'Sweden',\n",
              "       'Philippines', 'Pakistan', 'Hungary', 'Bangladesh', 'Switzerland',\n",
              "       'Jordan', 'Serbia', 'Austria', 'Morocco', 'Japan', 'Lebanon',\n",
              "       'UAE', 'Saudi Arabia', 'Slovakia', 'Panama', 'Malaysia',\n",
              "       'Bulgaria', 'Ecuador', 'Belarus', 'Georgia', 'Nepal', 'Bolivia',\n",
              "       'Croatia', 'Azerbaijan', 'Greece', 'Dominican Republic', 'Tunisia',\n",
              "       'Kazakhstan', 'Palestine', 'Ireland', 'Kuwait', 'Denmark',\n",
              "       'Moldova', 'Costa Rica', 'Lithuania', 'Slovenia', 'Paraguay',\n",
              "       'Ethiopia', 'Egypt', 'Guatemala', 'Armenia', 'Honduras', 'Qatar',\n",
              "       'Nigeria', 'Bosnia and Herzegovina', 'Libya', 'Oman', 'Venezuela',\n",
              "       'Myanmar', 'Bahrain', 'Kenya', 'North Macedonia', 'Albania',\n",
              "       'Algeria', 'Estonia', 'S. Korea', 'Latvia', 'Uruguay', 'Norway',\n",
              "       'Sri Lanka', 'Ghana', 'Montenegro', 'Kyrgyzstan', 'Zambia',\n",
              "       'Uzbekistan', 'Finland', 'Cuba', 'Mozambique', 'El Salvador',\n",
              "       'Luxembourg', 'Singapore', 'Afghanistan', 'Cameroon', 'Cyprus',\n",
              "       'Namibia', 'Ivory Coast', 'Uganda', 'Senegal', 'Botswana',\n",
              "       'Jamaica', 'Zimbabwe', 'Malawi', 'Sudan', 'Australia', 'Malta',\n",
              "       'Thailand', 'DRC', 'Madagascar', 'Maldives', 'Angola', 'Rwanda',\n",
              "       'Guinea', 'Mayotte', 'Gabon', 'French Polynesia', 'Syria',\n",
              "       'Mauritania', 'Eswatini', 'Cabo Verde', 'French Guiana', 'Réunion',\n",
              "       'Tajikistan', 'Haiti', 'Burkina Faso', 'Belize', 'Andorra',\n",
              "       'Hong Kong', 'Guadeloupe', 'Somalia', 'Lesotho', 'Guyana',\n",
              "       'South Sudan', 'Togo', 'Mali', 'Congo', 'Aruba', 'Suriname',\n",
              "       'Bahamas', 'Trinidad and Tobago', 'Martinique', 'Djibouti',\n",
              "       'Curaçao', 'Benin', 'Mongolia', 'Equatorial Guinea', 'Nicaragua',\n",
              "       'Iceland', 'Gambia', 'Papua New Guinea', 'CAR', 'Niger',\n",
              "       'San Marino', 'Chad', 'Gibraltar', 'Saint Lucia', 'Seychelles',\n",
              "       'Channel Islands', 'Yemen', 'Sierra Leone', 'Comoros',\n",
              "       'Guinea-Bissau', 'Barbados', 'Eritrea', 'Burundi', 'Liechtenstein',\n",
              "       'Vietnam', 'New Zealand', 'Turks and Caicos', 'Monaco', 'Cambodia',\n",
              "       'Sao Tome and Principe', 'Sint Maarten', 'Liberia',\n",
              "       'St. Vincent Grenadines', 'Saint Martin', 'Isle of Man',\n",
              "       'Caribbean Netherlands', 'Antigua and Barbuda', 'Bermuda',\n",
              "       'Taiwan', 'Mauritius', 'Bhutan', 'St. Barth', 'Diamond Princess',\n",
              "       'Faeroe Islands', 'Tanzania', 'Timor-Leste', 'Cayman Islands',\n",
              "       'Wallis and Futuna', 'Brunei', 'Dominica', 'Grenada',\n",
              "       'British Virgin Islands', 'New Caledonia', 'Fiji',\n",
              "       'Falkland Islands', 'Laos', 'Macao', 'Saint Kitts and Nevis',\n",
              "       'Greenland', 'Vatican City', 'Saint Pierre Miquelon', 'Anguilla',\n",
              "       'Montserrat', 'Solomon Islands', 'Western Sahara', 'MS Zaandam',\n",
              "       'Marshall Islands', 'Samoa', 'Vanuatu', 'Micronesia', 'China',\n",
              "       'Total:', 'Total:', 'Total:', 'Total:', 'Total:', 'Total:',\n",
              "       'Total:', 'Total:'], dtype=object)"
            ]
          },
          "metadata": {
            "tags": []
          },
          "execution_count": 8
        }
      ]
    },
    {
      "cell_type": "code",
      "metadata": {
        "id": "aJFN-uvJby4-"
      },
      "source": [
        "df = df[df['Country'].isin(['Total:']) == False]\n",
        "df = df[df['Country'].isin(['0']) == False]\n",
        "\n",
        "## ---------------------------------------------\n",
        "\n",
        "# Set regions\n",
        "regions = df[df['Country'].isin(['North America', 'South America', 'Asia', 'Europe', 'Africa', 'Oceania', 'World']) == True]\n",
        "\n",
        "## ---------------------------------------------\n",
        "\n",
        "df = df[df['Country'].isin(['North America', 'South America', 'Asia', 'Europe', 'Africa', 'Oceania', 'World']) == False]"
      ],
      "execution_count": 9,
      "outputs": []
    },
    {
      "cell_type": "code",
      "metadata": {
        "colab": {
          "base_uri": "https://localhost:8080/",
          "height": 206
        },
        "id": "Hkcz61QVjR8b",
        "outputId": "cb73cc0a-f979-4672-a68d-d5a21135a3fb"
      },
      "source": [
        "df.head()"
      ],
      "execution_count": 10,
      "outputs": [
        {
          "output_type": "execute_result",
          "data": {
            "text/html": [
              "<div>\n",
              "<style scoped>\n",
              "    .dataframe tbody tr th:only-of-type {\n",
              "        vertical-align: middle;\n",
              "    }\n",
              "\n",
              "    .dataframe tbody tr th {\n",
              "        vertical-align: top;\n",
              "    }\n",
              "\n",
              "    .dataframe thead th {\n",
              "        text-align: right;\n",
              "    }\n",
              "</style>\n",
              "<table border=\"1\" class=\"dataframe\">\n",
              "  <thead>\n",
              "    <tr style=\"text-align: right;\">\n",
              "      <th></th>\n",
              "      <th>Country</th>\n",
              "      <th>Total Cases</th>\n",
              "      <th>Total Deaths</th>\n",
              "      <th>Total Recovered</th>\n",
              "      <th>Active Cases</th>\n",
              "      <th>Critical Cases</th>\n",
              "      <th>Cases/1M Pop</th>\n",
              "      <th>Deaths/1M Pop</th>\n",
              "      <th>Total Tests</th>\n",
              "      <th>Tests/1M Pop</th>\n",
              "      <th>Population</th>\n",
              "    </tr>\n",
              "  </thead>\n",
              "  <tbody>\n",
              "    <tr>\n",
              "      <th>8</th>\n",
              "      <td>USA</td>\n",
              "      <td>30956871</td>\n",
              "      <td>562457</td>\n",
              "      <td>23408869</td>\n",
              "      <td>60160</td>\n",
              "      <td>6985545</td>\n",
              "      <td>8555</td>\n",
              "      <td>93123</td>\n",
              "      <td>1692</td>\n",
              "      <td>399266586</td>\n",
              "      <td>1201049</td>\n",
              "    </tr>\n",
              "    <tr>\n",
              "      <th>9</th>\n",
              "      <td>Brazil</td>\n",
              "      <td>12534688</td>\n",
              "      <td>312299</td>\n",
              "      <td>10912941</td>\n",
              "      <td>33314</td>\n",
              "      <td>1309448</td>\n",
              "      <td>8318</td>\n",
              "      <td>58663</td>\n",
              "      <td>1462</td>\n",
              "      <td>28600000</td>\n",
              "      <td>133851</td>\n",
              "    </tr>\n",
              "    <tr>\n",
              "      <th>10</th>\n",
              "      <td>India</td>\n",
              "      <td>12039210</td>\n",
              "      <td>161881</td>\n",
              "      <td>11353727</td>\n",
              "      <td>32149</td>\n",
              "      <td>523602</td>\n",
              "      <td>8944</td>\n",
              "      <td>8661</td>\n",
              "      <td>116</td>\n",
              "      <td>240950842</td>\n",
              "      <td>173349</td>\n",
              "    </tr>\n",
              "    <tr>\n",
              "      <th>11</th>\n",
              "      <td>France</td>\n",
              "      <td>4545589</td>\n",
              "      <td>94596</td>\n",
              "      <td>289752</td>\n",
              "      <td>402</td>\n",
              "      <td>4161241</td>\n",
              "      <td>4872</td>\n",
              "      <td>69526</td>\n",
              "      <td>1447</td>\n",
              "      <td>63048069</td>\n",
              "      <td>964333</td>\n",
              "    </tr>\n",
              "    <tr>\n",
              "      <th>12</th>\n",
              "      <td>Russia</td>\n",
              "      <td>4519832</td>\n",
              "      <td>97740</td>\n",
              "      <td>4139128</td>\n",
              "      <td>8630</td>\n",
              "      <td>282964</td>\n",
              "      <td>2300</td>\n",
              "      <td>30962</td>\n",
              "      <td>670</td>\n",
              "      <td>119500000</td>\n",
              "      <td>818602</td>\n",
              "    </tr>\n",
              "  </tbody>\n",
              "</table>\n",
              "</div>"
            ],
            "text/plain": [
              "   Country Total Cases Total Deaths  ... Total Tests Tests/1M Pop Population\n",
              "8      USA    30956871       562457  ...        1692    399266586    1201049\n",
              "9   Brazil    12534688       312299  ...        1462     28600000     133851\n",
              "10   India    12039210       161881  ...         116    240950842     173349\n",
              "11  France     4545589        94596  ...        1447     63048069     964333\n",
              "12  Russia     4519832        97740  ...         670    119500000     818602\n",
              "\n",
              "[5 rows x 11 columns]"
            ]
          },
          "metadata": {
            "tags": []
          },
          "execution_count": 10
        }
      ]
    },
    {
      "cell_type": "code",
      "metadata": {
        "colab": {
          "base_uri": "https://localhost:8080/",
          "height": 206
        },
        "id": "npOm-Rj7wgWD",
        "outputId": "2e1df6a2-fbc3-4fec-ca56-dd19260932a1"
      },
      "source": [
        "regions.head()"
      ],
      "execution_count": 11,
      "outputs": [
        {
          "output_type": "execute_result",
          "data": {
            "text/html": [
              "<div>\n",
              "<style scoped>\n",
              "    .dataframe tbody tr th:only-of-type {\n",
              "        vertical-align: middle;\n",
              "    }\n",
              "\n",
              "    .dataframe tbody tr th {\n",
              "        vertical-align: top;\n",
              "    }\n",
              "\n",
              "    .dataframe thead th {\n",
              "        text-align: right;\n",
              "    }\n",
              "</style>\n",
              "<table border=\"1\" class=\"dataframe\">\n",
              "  <thead>\n",
              "    <tr style=\"text-align: right;\">\n",
              "      <th></th>\n",
              "      <th>Country</th>\n",
              "      <th>Total Cases</th>\n",
              "      <th>Total Deaths</th>\n",
              "      <th>Total Recovered</th>\n",
              "      <th>Active Cases</th>\n",
              "      <th>Critical Cases</th>\n",
              "      <th>Cases/1M Pop</th>\n",
              "      <th>Deaths/1M Pop</th>\n",
              "      <th>Total Tests</th>\n",
              "      <th>Tests/1M Pop</th>\n",
              "      <th>Population</th>\n",
              "    </tr>\n",
              "  </thead>\n",
              "  <tbody>\n",
              "    <tr>\n",
              "      <th>0</th>\n",
              "      <td>North America</td>\n",
              "      <td>35627823</td>\n",
              "      <td>815057</td>\n",
              "      <td>27282612</td>\n",
              "      <td>68620</td>\n",
              "      <td>7530154</td>\n",
              "      <td>15172</td>\n",
              "      <td>0</td>\n",
              "      <td>0</td>\n",
              "      <td>0</td>\n",
              "      <td>0</td>\n",
              "    </tr>\n",
              "    <tr>\n",
              "      <th>1</th>\n",
              "      <td>South America</td>\n",
              "      <td>20811792</td>\n",
              "      <td>540550</td>\n",
              "      <td>18521290</td>\n",
              "      <td>64303</td>\n",
              "      <td>1749952</td>\n",
              "      <td>20152</td>\n",
              "      <td>0</td>\n",
              "      <td>0</td>\n",
              "      <td>0</td>\n",
              "      <td>0</td>\n",
              "    </tr>\n",
              "    <tr>\n",
              "      <th>2</th>\n",
              "      <td>Asia</td>\n",
              "      <td>27994962</td>\n",
              "      <td>424216</td>\n",
              "      <td>25764679</td>\n",
              "      <td>118596</td>\n",
              "      <td>1806067</td>\n",
              "      <td>25091</td>\n",
              "      <td>0</td>\n",
              "      <td>0</td>\n",
              "      <td>0</td>\n",
              "      <td>0</td>\n",
              "    </tr>\n",
              "    <tr>\n",
              "      <th>3</th>\n",
              "      <td>Europe</td>\n",
              "      <td>39032598</td>\n",
              "      <td>902345</td>\n",
              "      <td>27541194</td>\n",
              "      <td>96773</td>\n",
              "      <td>10589059</td>\n",
              "      <td>30523</td>\n",
              "      <td>0</td>\n",
              "      <td>0</td>\n",
              "      <td>0</td>\n",
              "      <td>0</td>\n",
              "    </tr>\n",
              "    <tr>\n",
              "      <th>4</th>\n",
              "      <td>Africa</td>\n",
              "      <td>4217257</td>\n",
              "      <td>112125</td>\n",
              "      <td>3785290</td>\n",
              "      <td>5510</td>\n",
              "      <td>319842</td>\n",
              "      <td>2726</td>\n",
              "      <td>0</td>\n",
              "      <td>0</td>\n",
              "      <td>0</td>\n",
              "      <td>0</td>\n",
              "    </tr>\n",
              "  </tbody>\n",
              "</table>\n",
              "</div>"
            ],
            "text/plain": [
              "         Country Total Cases Total Deaths  ... Total Tests Tests/1M Pop Population\n",
              "0  North America    35627823       815057  ...           0            0          0\n",
              "1  South America    20811792       540550  ...           0            0          0\n",
              "2           Asia    27994962       424216  ...           0            0          0\n",
              "3         Europe    39032598       902345  ...           0            0          0\n",
              "4         Africa     4217257       112125  ...           0            0          0\n",
              "\n",
              "[5 rows x 11 columns]"
            ]
          },
          "metadata": {
            "tags": []
          },
          "execution_count": 11
        }
      ]
    },
    {
      "cell_type": "code",
      "metadata": {
        "id": "3IvlZqHajr-s"
      },
      "source": [
        "for w in df.columns:\n",
        "  if w != 'Country':\n",
        "    df[w] = df[w].astype('float')"
      ],
      "execution_count": 12,
      "outputs": []
    },
    {
      "cell_type": "code",
      "metadata": {
        "id": "Z4mjwCYDwk_-"
      },
      "source": [
        "for w in regions.columns:\n",
        "  if w != 'Country':\n",
        "    regions[w] = regions[w].astype('float')"
      ],
      "execution_count": 13,
      "outputs": []
    },
    {
      "cell_type": "code",
      "metadata": {
        "id": "2218t7bejL4S"
      },
      "source": [
        "regions.set_index(regions['Country'], inplace=True)\n",
        "regions.drop('Country', axis=1, inplace=True)\n",
        "df.set_index(df['Country'], inplace=True)\n",
        "df.drop('Country', axis=1, inplace=True)"
      ],
      "execution_count": 14,
      "outputs": []
    },
    {
      "cell_type": "markdown",
      "metadata": {
        "id": "UsRcFr-oqwR9"
      },
      "source": [
        "### Data exploring with matplotlib and seaborn"
      ]
    },
    {
      "cell_type": "code",
      "metadata": {
        "id": "kBZ1DEdES814"
      },
      "source": [
        "cores = ['royalblue', 'lightblue', 'lightslategray', 'lightgrey', 'darkgrey', 'steelblue']"
      ],
      "execution_count": 43,
      "outputs": []
    },
    {
      "cell_type": "code",
      "metadata": {
        "colab": {
          "base_uri": "https://localhost:8080/",
          "height": 652
        },
        "id": "KnYqU-RBaInw",
        "outputId": "fa0ad19a-c7e4-4bdd-9dcd-7f493c5066c2"
      },
      "source": [
        "fig, ax = plt.subplots(figsize=(30,25))\n",
        "\n",
        "ax1 = plt.subplot(4,2,1)\n",
        "ax1.bar(height = regions['Total Deaths'], x = regions.index, color = cores)\n",
        "ax1.spines['right'].set_visible(False)\n",
        "ax1.spines['bottom'].set_visible(False)\n",
        "ax1.spines['top'].set_visible(False)\n",
        "ax1.spines['left'].set_visible(False)\n",
        "plt.xticks(fontsize= 12, color='grey', style='oblique', fontweight='bold')\n",
        "plt.gca().axes.get_yaxis().set_visible(False)\n",
        "plt.title(\"Total Deaths\", fontsize=20, color='grey', style='oblique', fontweight='bold')\n",
        "for value, index in enumerate(regions['Total Deaths'].values):\n",
        "  plt.text(value, index, str(index), ha='center', va='bottom', color='grey', style='oblique', fontweight='bold', fontsize=11)\n",
        "\n",
        "ax2 = plt.subplot(4,2,2)\n",
        "ax2.bar(height = regions['Total Cases'], x = regions.index, color = cores)\n",
        "plt.gca().axes.get_yaxis().set_visible(False)\n",
        "ax2.spines['right'].set_visible(False)\n",
        "ax2.spines['bottom'].set_visible(False)\n",
        "ax2.spines['top'].set_visible(False)\n",
        "ax2.spines['left'].set_visible(False)\n",
        "plt.xticks(fontsize= 12, color='grey', style='oblique', fontweight='bold')\n",
        "plt.title(\"Total Cases\", fontsize=20, color='grey', style='oblique', fontweight='bold')\n",
        "for value, index in enumerate(regions['Total Cases'].values):\n",
        "  plt.text(value, index, str(index), ha='center', va='bottom', color='grey', style='oblique', fontweight='bold', fontsize=11)\n",
        "\n",
        "ax3 = plt.subplot(4,2,3)\n",
        "ax3.bar(height = regions['Total Recovered'], x = regions.index, color = cores)\n",
        "plt.gca().axes.get_yaxis().set_visible(False)\n",
        "ax3.spines['right'].set_visible(False)\n",
        "ax3.spines['bottom'].set_visible(False)\n",
        "ax3.spines['top'].set_visible(False)\n",
        "ax3.spines['left'].set_visible(False)\n",
        "plt.xticks(fontsize= 12, color='grey', style='oblique', fontweight='bold')\n",
        "plt.title(\"Total Recovered\", fontsize=20, color='grey', style='oblique', fontweight='bold')\n",
        "for value, index in enumerate(regions['Total Recovered'].values):\n",
        "  plt.text(value, index, str(index), ha='center', va='bottom', color='grey', style='oblique', fontweight='bold', fontsize=11)\n",
        "\n",
        "ax4 = plt.subplot(4,2,4)\n",
        "ax4.bar(height = regions['Active Cases'], x = regions.index, color = cores)\n",
        "plt.gca().axes.get_yaxis().set_visible(False)\n",
        "ax4.spines['right'].set_visible(False)\n",
        "ax4.spines['bottom'].set_visible(False)\n",
        "ax4.spines['top'].set_visible(False)\n",
        "ax4.spines['left'].set_visible(False)\n",
        "plt.xticks(fontsize= 12, color='grey', style='oblique', fontweight='bold')\n",
        "plt.title(\"Active Cases\", fontsize=20, color='grey', style='oblique', fontweight='bold')\n",
        "for value, index in enumerate(regions['Active Cases'].values):\n",
        "  plt.text(value, index, str(index), ha='center', va='bottom', color='grey', style='oblique', fontweight='bold', fontsize=11)\n",
        "\n",
        "plt.show"
      ],
      "execution_count": 173,
      "outputs": [
        {
          "output_type": "execute_result",
          "data": {
            "text/plain": [
              "<function matplotlib.pyplot.show>"
            ]
          },
          "metadata": {
            "tags": []
          },
          "execution_count": 173
        },
        {
          "output_type": "display_data",
          "data": {
            "image/png": "[encoded data removed]",
            "text/plain": [
              "<Figure size 2160x1800 with 4 Axes>"
            ]
          },
          "metadata": {
            "tags": []
          }
        }
      ]
    },
    {
      "cell_type": "code",
      "metadata": {
        "colab": {
          "base_uri": "https://localhost:8080/",
          "height": 269
        },
        "id": "Au55I1ZhuRau",
        "outputId": "51a8489d-c17d-4890-e12e-510454d64289"
      },
      "source": [
        "df2 = df[df.index.isin(['Brazil', 'USA', 'China', 'Vietnam', 'Argentina', 'Germany'])]\n",
        "df2"
      ],
      "execution_count": 188,
      "outputs": [
        {
          "output_type": "execute_result",
          "data": {
            "text/html": [
              "<div>\n",
              "<style scoped>\n",
              "    .dataframe tbody tr th:only-of-type {\n",
              "        vertical-align: middle;\n",
              "    }\n",
              "\n",
              "    .dataframe tbody tr th {\n",
              "        vertical-align: top;\n",
              "    }\n",
              "\n",
              "    .dataframe thead th {\n",
              "        text-align: right;\n",
              "    }\n",
              "</style>\n",
              "<table border=\"1\" class=\"dataframe\">\n",
              "  <thead>\n",
              "    <tr style=\"text-align: right;\">\n",
              "      <th></th>\n",
              "      <th>Total Cases</th>\n",
              "      <th>Total Deaths</th>\n",
              "      <th>Total Recovered</th>\n",
              "      <th>Active Cases</th>\n",
              "      <th>Critical Cases</th>\n",
              "      <th>Cases/1M Pop</th>\n",
              "      <th>Deaths/1M Pop</th>\n",
              "      <th>Total Tests</th>\n",
              "      <th>Tests/1M Pop</th>\n",
              "      <th>Population</th>\n",
              "    </tr>\n",
              "    <tr>\n",
              "      <th>Country</th>\n",
              "      <th></th>\n",
              "      <th></th>\n",
              "      <th></th>\n",
              "      <th></th>\n",
              "      <th></th>\n",
              "      <th></th>\n",
              "      <th></th>\n",
              "      <th></th>\n",
              "      <th></th>\n",
              "      <th></th>\n",
              "    </tr>\n",
              "  </thead>\n",
              "  <tbody>\n",
              "    <tr>\n",
              "      <th>USA</th>\n",
              "      <td>30956871.0</td>\n",
              "      <td>562457.0</td>\n",
              "      <td>23408869.0</td>\n",
              "      <td>60160.0</td>\n",
              "      <td>6985545.0</td>\n",
              "      <td>8555.0</td>\n",
              "      <td>93123.0</td>\n",
              "      <td>1692.0</td>\n",
              "      <td>399266586.0</td>\n",
              "      <td>1201049.0</td>\n",
              "    </tr>\n",
              "    <tr>\n",
              "      <th>Brazil</th>\n",
              "      <td>12534688.0</td>\n",
              "      <td>312299.0</td>\n",
              "      <td>10912941.0</td>\n",
              "      <td>33314.0</td>\n",
              "      <td>1309448.0</td>\n",
              "      <td>8318.0</td>\n",
              "      <td>58663.0</td>\n",
              "      <td>1462.0</td>\n",
              "      <td>28600000.0</td>\n",
              "      <td>133851.0</td>\n",
              "    </tr>\n",
              "    <tr>\n",
              "      <th>Germany</th>\n",
              "      <td>2786345.0</td>\n",
              "      <td>76468.0</td>\n",
              "      <td>2484600.0</td>\n",
              "      <td>7100.0</td>\n",
              "      <td>225277.0</td>\n",
              "      <td>3209.0</td>\n",
              "      <td>33178.0</td>\n",
              "      <td>911.0</td>\n",
              "      <td>48979281.0</td>\n",
              "      <td>583216.0</td>\n",
              "    </tr>\n",
              "    <tr>\n",
              "      <th>Argentina</th>\n",
              "      <td>2308597.0</td>\n",
              "      <td>55449.0</td>\n",
              "      <td>2079515.0</td>\n",
              "      <td>7287.0</td>\n",
              "      <td>173633.0</td>\n",
              "      <td>3505.0</td>\n",
              "      <td>50738.0</td>\n",
              "      <td>1219.0</td>\n",
              "      <td>8687916.0</td>\n",
              "      <td>190940.0</td>\n",
              "    </tr>\n",
              "    <tr>\n",
              "      <th>Vietnam</th>\n",
              "      <td>2591.0</td>\n",
              "      <td>35.0</td>\n",
              "      <td>2308.0</td>\n",
              "      <td>0.0</td>\n",
              "      <td>248.0</td>\n",
              "      <td>0.0</td>\n",
              "      <td>26.0</td>\n",
              "      <td>0.4</td>\n",
              "      <td>2598753.0</td>\n",
              "      <td>26523.0</td>\n",
              "    </tr>\n",
              "    <tr>\n",
              "      <th>China</th>\n",
              "      <td>90167.0</td>\n",
              "      <td>4636.0</td>\n",
              "      <td>85364.0</td>\n",
              "      <td>2.0</td>\n",
              "      <td>167.0</td>\n",
              "      <td>1.0</td>\n",
              "      <td>63.0</td>\n",
              "      <td>3.0</td>\n",
              "      <td>160000000.0</td>\n",
              "      <td>111163.0</td>\n",
              "    </tr>\n",
              "  </tbody>\n",
              "</table>\n",
              "</div>"
            ],
            "text/plain": [
              "           Total Cases  Total Deaths  ...  Tests/1M Pop  Population\n",
              "Country                               ...                          \n",
              "USA         30956871.0      562457.0  ...   399266586.0   1201049.0\n",
              "Brazil      12534688.0      312299.0  ...    28600000.0    133851.0\n",
              "Germany      2786345.0       76468.0  ...    48979281.0    583216.0\n",
              "Argentina    2308597.0       55449.0  ...     8687916.0    190940.0\n",
              "Vietnam         2591.0          35.0  ...     2598753.0     26523.0\n",
              "China          90167.0        4636.0  ...   160000000.0    111163.0\n",
              "\n",
              "[6 rows x 10 columns]"
            ]
          },
          "metadata": {
            "tags": []
          },
          "execution_count": 188
        }
      ]
    },
    {
      "cell_type": "code",
      "metadata": {
        "colab": {
          "base_uri": "https://localhost:8080/",
          "height": 652
        },
        "id": "36zqdvZ4t2MM",
        "outputId": "5e67cfdd-ddc2-4114-f700-dd9336bbf835"
      },
      "source": [
        "fig, ax = plt.subplots(figsize=(30,25))\n",
        "\n",
        "ax1 = plt.subplot(4,2,1)\n",
        "ax1.bar(height = df2['Total Deaths'], x = df2.index, color = cores)\n",
        "ax1.spines['right'].set_visible(False)\n",
        "ax1.spines['bottom'].set_visible(False)\n",
        "ax1.spines['top'].set_visible(False)\n",
        "ax1.spines['left'].set_visible(False)\n",
        "plt.xticks(fontsize= 12, color='grey', style='oblique', fontweight='bold')\n",
        "plt.gca().axes.get_yaxis().set_visible(False)\n",
        "plt.title(\"Total Deaths\", fontsize=20, color='grey', style='oblique', fontweight='bold')\n",
        "for value, index in enumerate(df2['Total Deaths'].values):\n",
        "  plt.text(value, index, str(index), ha='center', va='bottom', color='grey', style='oblique', fontweight='bold', fontsize=11)\n",
        "\n",
        "ax2 = plt.subplot(4,2,2)\n",
        "ax2.bar(height = df2['Total Cases'], x = df2.index, color = cores)\n",
        "plt.gca().axes.get_yaxis().set_visible(False)\n",
        "ax2.spines['right'].set_visible(False)\n",
        "ax2.spines['bottom'].set_visible(False)\n",
        "ax2.spines['top'].set_visible(False)\n",
        "ax2.spines['left'].set_visible(False)\n",
        "plt.xticks(fontsize= 12, color='grey', style='oblique', fontweight='bold')\n",
        "plt.title(\"Total Cases\", fontsize=20, color='grey', style='oblique', fontweight='bold')\n",
        "for value, index in enumerate(df2['Total Cases'].values):\n",
        "  plt.text(value, index, str(index), ha='center', va='bottom', color='grey', style='oblique', fontweight='bold', fontsize=11)\n",
        "\n",
        "ax3 = plt.subplot(4,2,3)\n",
        "ax3.bar(height = df2['Total Recovered'], x = df2.index, color = cores)\n",
        "plt.gca().axes.get_yaxis().set_visible(False)\n",
        "ax3.spines['right'].set_visible(False)\n",
        "ax3.spines['bottom'].set_visible(False)\n",
        "ax3.spines['top'].set_visible(False)\n",
        "ax3.spines['left'].set_visible(False)\n",
        "plt.xticks(fontsize= 12, color='grey', style='oblique', fontweight='bold')\n",
        "plt.title(\"Total Recovered\", fontsize=20, color='grey', style='oblique', fontweight='bold')\n",
        "for value, index in enumerate(df2['Total Recovered'].values):\n",
        "  plt.text(value, index, str(index), ha='center', va='bottom', color='grey', style='oblique', fontweight='bold', fontsize=11)\n",
        "\n",
        "ax4 = plt.subplot(4,2,4)\n",
        "ax4.bar(height = df2['Active Cases'], x = df2.index, color = cores)\n",
        "plt.gca().axes.get_yaxis().set_visible(False)\n",
        "ax4.spines['right'].set_visible(False)\n",
        "ax4.spines['bottom'].set_visible(False)\n",
        "ax4.spines['top'].set_visible(False)\n",
        "ax4.spines['left'].set_visible(False)\n",
        "plt.xticks(fontsize= 12, color='grey', style='oblique', fontweight='bold')\n",
        "plt.title(\"Active Cases\", fontsize=20, color='grey', style='oblique', fontweight='bold')\n",
        "for value, index in enumerate(df2['Active Cases'].values):\n",
        "  plt.text(value, index, str(index), ha='center', va='bottom', color='grey', style='oblique', fontweight='bold', fontsize=11)\n",
        "\n",
        "plt.show"
      ],
      "execution_count": 189,
      "outputs": [
        {
          "output_type": "execute_result",
          "data": {
            "text/plain": [
              "<function matplotlib.pyplot.show>"
            ]
          },
          "metadata": {
            "tags": []
          },
          "execution_count": 189
        },
        {
          "output_type": "display_data",
          "data": {
            "image/png": "[encoded data removed]",
            "text/plain": [
              "<Figure size 2160x1800 with 4 Axes>"
            ]
          },
          "metadata": {
            "tags": []
          }
        }
      ]
    }
  ]
}